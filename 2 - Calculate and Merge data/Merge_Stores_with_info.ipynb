{
 "cells": [
  {
   "cell_type": "markdown",
   "metadata": {},
   "source": [
    "# Merge Stores with Info\n",
    "In this script I am joining the different sources that i have been calculating and getting  ready with the Walmart and Costco Stores."
   ]
  },
  {
   "cell_type": "markdown",
   "metadata": {},
   "source": [
    "### 1. Load Source Data"
   ]
  },
  {
   "cell_type": "code",
   "execution_count": 55,
   "metadata": {},
   "outputs": [],
   "source": [
    "#Libraries and Settings\n",
    "import pandas as pd\n",
    "\n",
    "pd.set_option('display.max_columns', None)\n",
    "pd.set_option('display.max_rows',100)"
   ]
  },
  {
   "cell_type": "code",
   "execution_count": 56,
   "metadata": {},
   "outputs": [
    {
     "name": "stdout",
     "output_type": "stream",
     "text": [
      "census:  (33971, 130)\n",
      "irs:  (27935, 28)\n",
      "walmart:  (4654, 9)\n",
      "costco:  (604, 6)\n",
      "geo:  (33121, 13)\n"
     ]
    }
   ],
   "source": [
    "#Data File to Dataframe\n",
    "file_1='/Users/c32/Documents/NYCDSA/Projects/DATA/Ready_Data/2_Merge_Census.csv'\n",
    "file_2='/Users/c32/Documents/NYCDSA/Projects/DATA/Ready_Data/2_Merge_Irs.csv'\n",
    "file_3='/Users/c32/Documents/NYCDSA/Projects/DATA/Ready_Data/1_Load_Walmart.csv'\n",
    "file_4='/Users/c32/Documents/NYCDSA/Projects/DATA/Ready_Data/1_Load_Costco.csv'\n",
    "file_5='/Users/c32/Documents/NYCDSA/Projects/DATA/Ready_Data/1_Load_Geographic_Data.csv'\n",
    "\n",
    "census=pd.read_csv(file_1, converters={'zip': str})\n",
    "irs=pd.read_csv(file_2, converters={'zip': str})\n",
    "walmart=pd.read_csv(file_3, converters={'zip': str})\n",
    "costco=pd.read_csv(file_4, converters={'zip': str})\n",
    "geo=pd.read_csv(file_5, converters={'zip': str})\n",
    "\n",
    "print('census: ',census.shape)\n",
    "print('irs: ', irs.shape)\n",
    "print('walmart: ',walmart.shape)\n",
    "print('costco: ',costco.shape)\n",
    "print('geo: ', geo.shape)"
   ]
  },
  {
   "cell_type": "markdown",
   "metadata": {},
   "source": [
    "## 1.0 Merge Walmart"
   ]
  },
  {
   "cell_type": "code",
   "execution_count": 57,
   "metadata": {},
   "outputs": [
    {
     "name": "stdout",
     "output_type": "stream",
     "text": [
      "walmart:  (4654, 9)\n",
      "walmart:  (4654, 21)\n",
      "walmart:  (4654, 150)\n",
      "walmart:  (4654, 177)\n"
     ]
    }
   ],
   "source": [
    "#Merge 'left' with the existing stores in the left \n",
    "print('walmart: ',walmart.shape)\n",
    "walmart=pd.merge(walmart,geo, on='zip', how='left')\n",
    "print('walmart: ',walmart.shape)\n",
    "walmart=pd.merge(walmart,census, on='zip', how='left')\n",
    "print('walmart: ',walmart.shape)\n",
    "walmart=pd.merge(walmart,irs, on='zip', how='left')\n",
    "print('walmart: ',walmart.shape)"
   ]
  },
  {
   "cell_type": "code",
   "execution_count": 58,
   "metadata": {},
   "outputs": [
    {
     "name": "stdout",
     "output_type": "stream",
     "text": [
      "Saved!\n"
     ]
    }
   ],
   "source": [
    "import os\n",
    "outname = '2_Merge_Walmart.csv'\n",
    "outdir = '/Users/c32/Documents/NYCDSA/Projects/DATA/Ready_Data'\n",
    "if not os.path.exists(outdir):\n",
    "    os.mkdir(outdir)\n",
    "fullname = os.path.join(outdir, outname)    \n",
    "\n",
    "walmart.to_csv(fullname, header=True, index=False)\n",
    "print(\"Saved!\")"
   ]
  },
  {
   "cell_type": "markdown",
   "metadata": {},
   "source": [
    "## 1.1 Merge Costco"
   ]
  },
  {
   "cell_type": "code",
   "execution_count": 59,
   "metadata": {},
   "outputs": [
    {
     "name": "stdout",
     "output_type": "stream",
     "text": [
      "costco:  (604, 6)\n",
      "costco:  (604, 18)\n",
      "costco:  (604, 147)\n",
      "costco:  (604, 174)\n"
     ]
    }
   ],
   "source": [
    "#Merge 'left' with the existing stores in the left \n",
    "print('costco: ',costco.shape)\n",
    "costco=pd.merge(costco,geo, on='zip', how='left')\n",
    "print('costco: ',costco.shape)\n",
    "costco=pd.merge(costco,census, on='zip', how='left')\n",
    "print('costco: ',costco.shape)\n",
    "costco=pd.merge(costco,irs, on='zip', how='left')\n",
    "print('costco: ',costco.shape)\n",
    "\n"
   ]
  },
  {
   "cell_type": "code",
   "execution_count": 61,
   "metadata": {},
   "outputs": [
    {
     "name": "stdout",
     "output_type": "stream",
     "text": [
      "Saved!\n"
     ]
    }
   ],
   "source": [
    "import os\n",
    "outname = '2_Merge_Costco.csv'\n",
    "outdir = '/Users/c32/Documents/NYCDSA/Projects/DATA/Ready_Data'\n",
    "if not os.path.exists(outdir):\n",
    "    os.mkdir(outdir)\n",
    "fullname = os.path.join(outdir, outname)    \n",
    "\n",
    "costco.to_csv(fullname, header=True, index=False)\n",
    "print(\"Saved!\")"
   ]
  }
 ],
 "metadata": {
  "kernelspec": {
   "display_name": "Python 3",
   "language": "python",
   "name": "python3"
  },
  "language_info": {
   "codemirror_mode": {
    "name": "ipython",
    "version": 3
   },
   "file_extension": ".py",
   "mimetype": "text/x-python",
   "name": "python",
   "nbconvert_exporter": "python",
   "pygments_lexer": "ipython3",
   "version": "3.12.3"
  }
 },
 "nbformat": 4,
 "nbformat_minor": 2
}
