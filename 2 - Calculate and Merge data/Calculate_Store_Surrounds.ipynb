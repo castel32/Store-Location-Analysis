{
 "cells": [
  {
   "cell_type": "markdown",
   "metadata": {},
   "source": [
    "# Calculate Data for the Surroundings of each zip code."
   ]
  },
  {
   "cell_type": "markdown",
   "metadata": {},
   "source": [
    "## 0. Initialize"
   ]
  },
  {
   "cell_type": "code",
   "execution_count": 223,
   "metadata": {},
   "outputs": [],
   "source": [
    "#Libraries and Settings\n",
    "import pandas as pd\n",
    "\n",
    "pd.set_option('display.max_columns', None)\n",
    "pd.set_option('display.max_rows',10)"
   ]
  },
  {
   "cell_type": "code",
   "execution_count": 224,
   "metadata": {},
   "outputs": [
    {
     "name": "stdout",
     "output_type": "stream",
     "text": [
      "census:  (33971, 127)\n",
      "irs:  (27935, 28)\n",
      "walmart:  (4654, 9)\n",
      "costco:  (604, 5)\n",
      "geo:  (33129, 12)\n"
     ]
    }
   ],
   "source": [
    "#Data File to Dataframe\n",
    "file_1='/Users/c32/Documents/NYCDSA/Projects/DATA/Ready_Data/2_Merge_Census.csv'\n",
    "file_2='/Users/c32/Documents/NYCDSA/Projects/DATA/Ready_Data/2_Merge_Irs.csv'\n",
    "file_3='/Users/c32/Documents/NYCDSA/Projects/DATA/Ready_Data/1_Load_Walmart.csv'\n",
    "file_4='/Users/c32/Documents/NYCDSA/Projects/DATA/Ready_Data/1_Load_Costco.csv'\n",
    "file_5='/Users/c32/Documents/NYCDSA/Projects/DATA/Ready_Data/1_Load_Geographic_Data.csv'\n",
    "\n",
    "census=pd.read_csv(file_1, converters={'zip': str})\n",
    "irs=pd.read_csv(file_2, converters={'zip': str})\n",
    "walmart=pd.read_csv(file_3, converters={'zip': str})\n",
    "costco=pd.read_csv(file_4, converters={'zip': str})\n",
    "geo=pd.read_csv(file_5, converters={'zip': str})\n",
    "\n",
    "print('census: ',census.shape)\n",
    "print('irs: ', irs.shape)\n",
    "print('walmart: ',walmart.shape)\n",
    "print('costco: ',costco.shape)\n",
    "print('geo: ', geo.shape)"
   ]
  },
  {
   "cell_type": "markdown",
   "metadata": {},
   "source": [
    "## 1. Get List of Zip Codes\n",
    "It is necessary to perform the calculations only for those zip codes where there is a store and not for every single existing zip code. "
   ]
  },
  {
   "cell_type": "code",
   "execution_count": 225,
   "metadata": {},
   "outputs": [
    {
     "name": "stdout",
     "output_type": "stream",
     "text": [
      "set()\n"
     ]
    }
   ],
   "source": [
    "zip_codes = set(walmart['zip']).union(set(costco['zip']))\n",
    "len(zip_codes) #4472 This is smaller than the total of stores, meaning there are more than one walmart and costo on the same zip code\n",
    "\n",
    "#Are there any zip codes that are not present in the master?\n",
    "master_zip_codes=set(geo['zip'])\n",
    "print(zip_codes-master_zip_codes)\n"
   ]
  },
  {
   "cell_type": "markdown",
   "metadata": {},
   "source": [
    "## 2. Calculate the Appropriate Aggregate functions for each metric"
   ]
  },
  {
   "cell_type": "markdown",
   "metadata": {},
   "source": [
    "### 2.1 Aggregate Metrics for Census"
   ]
  },
  {
   "cell_type": "code",
   "execution_count": null,
   "metadata": {},
   "outputs": [],
   "source": []
  },
  {
   "cell_type": "code",
   "execution_count": 226,
   "metadata": {},
   "outputs": [],
   "source": [
    "#I am going to use these empty dataframes to add in the calculation for each zip code using a loop\n",
    "agg_census=pd.DataFrame()\n",
    "agg_irs=pd.DataFrame()\n",
    "agg_geo=pd.DataFrame()\n",
    "\n",
    "for zip_i in zip_codes:\n",
    "    #this brings the list of surounding zips for that particular zip_i \n",
    "    surr_zip = geo[geo['zip']==zip_i]['zips_around'].values[0]\n",
    "    surr_zip=surr_zip.replace('[','').replace(']','').replace('\\'','').split(', ')\n",
    "\n",
    "    #keep only the ones in the list in this temporary df\n",
    "    t_census=pd.DataFrame()\n",
    "    t_census=census[census['zip'].isin(surr_zip)]\n",
    "    t_census=t_census.dropna()\n",
    "\n",
    "    #This will contain the calculated data for zip_i and will be added when finished with it.\n",
    "    t_agg_census={'zip':zip_i}\n",
    "    #now let's obtain the new data for zip_i\n",
    "\n",
    "    columns=t_census.columns.tolist()\n",
    "    for c in (columns[1:]):\n",
    "        if ('delta' not in c)and('ratio' not in c):\n",
    "            t_agg_census[c]=t_census[c].sum()\n",
    "        if ('ratio' in c)and('delta' not in c):\n",
    "            c_name=c.replace('_ratio','')\n",
    "            if('21' in c):\n",
    "                t_agg_census[c]=t_agg_census[c_name]/t_agg_census['total_pop_21']\n",
    "            if('11' in c):\n",
    "                t_agg_census[c]=t_agg_census[c_name]/t_agg_census['total_pop_11']\n",
    "        if ('ratio' not in c)and('delta' in c):\n",
    "            c_name=c.replace('delta_','')\n",
    "            t_agg_census[c]=(t_agg_census[c_name+'_21'])-(t_agg_census[c_name+'_11'])\n",
    "        if ('ratio' in c)and('delta' in c):\n",
    "            c_name=c.replace('_ratio','').replace('delta_','')\n",
    "            t_agg_census[c]=(t_agg_census[c_name+'_21']-t_agg_census[c_name+'_11'])/t_agg_census['total_pop_11']\n",
    "\n",
    "    agg_census=pd.concat([agg_census,pd.DataFrame(t_agg_census, index=[0])])         \n",
    "    #agg_census=pd.concat([agg_census,t_agg_census], ignore_index=True)         "
   ]
  },
  {
   "cell_type": "code",
   "execution_count": 230,
   "metadata": {},
   "outputs": [
    {
     "data": {
      "text/plain": [
       "0"
      ]
     },
     "execution_count": 230,
     "metadata": {},
     "output_type": "execute_result"
    }
   ],
   "source": [
    "#Check for nulls\n",
    "sum(agg_census.isna().sum())"
   ]
  },
  {
   "cell_type": "markdown",
   "metadata": {},
   "source": [
    "## 3.Export to CSV and verify in Excel some calculations"
   ]
  },
  {
   "cell_type": "code",
   "execution_count": 228,
   "metadata": {},
   "outputs": [
    {
     "data": {
      "text/plain": [
       "'\\nimport os\\noutname = \\'DELETE_t_agg_census.csv\\'\\noutdir = \\'/Users/c32/Documents/NYCDSA/Projects/DATA/Ready_Data\\'\\nif not os.path.exists(outdir):\\n    os.mkdir(outdir)\\nfullname = os.path.join(outdir, outname)    \\n\\nt_agg_census.to_csv(fullname, header=True, index=False)\\nprint(\"Saved!\")\\n\\nimport os\\noutname = \\'DELETE_t_census.csv\\'\\noutdir = \\'/Users/c32/Documents/NYCDSA/Projects/DATA/Ready_Data\\'\\nif not os.path.exists(outdir):\\n    os.mkdir(outdir)\\nfullname = os.path.join(outdir, outname)    \\n\\nt_census.to_csv(fullname, header=True, index=False)\\nprint(\"Saved!\")\\n'"
      ]
     },
     "execution_count": 228,
     "metadata": {},
     "output_type": "execute_result"
    }
   ],
   "source": [
    "#Export to CSV and verify in Excel some calculations\n",
    "'''\n",
    "import os\n",
    "outname = 'DELETE_t_agg_census.csv'\n",
    "outdir = '/Users/c32/Documents/NYCDSA/Projects/DATA/Ready_Data'\n",
    "if not os.path.exists(outdir):\n",
    "    os.mkdir(outdir)\n",
    "fullname = os.path.join(outdir, outname)    \n",
    "\n",
    "t_agg_census.to_csv(fullname, header=True, index=False)\n",
    "print(\"Saved!\")\n",
    "\n",
    "import os\n",
    "outname = 'DELETE_t_census.csv'\n",
    "outdir = '/Users/c32/Documents/NYCDSA/Projects/DATA/Ready_Data'\n",
    "if not os.path.exists(outdir):\n",
    "    os.mkdir(outdir)\n",
    "fullname = os.path.join(outdir, outname)    \n",
    "\n",
    "t_census.to_csv(fullname, header=True, index=False)\n",
    "print(\"Saved!\")\n",
    "'''\n"
   ]
  }
 ],
 "metadata": {
  "kernelspec": {
   "display_name": "Python 3",
   "language": "python",
   "name": "python3"
  },
  "language_info": {
   "codemirror_mode": {
    "name": "ipython",
    "version": 3
   },
   "file_extension": ".py",
   "mimetype": "text/x-python",
   "name": "python",
   "nbconvert_exporter": "python",
   "pygments_lexer": "ipython3",
   "version": "3.12.3"
  }
 },
 "nbformat": 4,
 "nbformat_minor": 2
}
