{
 "cells": [
  {
   "cell_type": "markdown",
   "metadata": {},
   "source": [
    "# Merge IRS Data years 2021 and 2011 and calculate the Delta between them."
   ]
  },
  {
   "cell_type": "markdown",
   "metadata": {},
   "source": [
    "## 1. Load both years"
   ]
  },
  {
   "cell_type": "code",
   "execution_count": 3,
   "metadata": {},
   "outputs": [],
   "source": [
    "#Libraries and Settings\n",
    "import pandas as pd\n",
    "\n",
    "pd.set_option('display.max_columns', None)\n",
    "pd.set_option('display.max_rows',10)"
   ]
  },
  {
   "cell_type": "code",
   "execution_count": 4,
   "metadata": {},
   "outputs": [
    {
     "name": "stdout",
     "output_type": "stream",
     "text": [
      "(27838, 9)\n"
     ]
    },
    {
     "data": {
      "text/html": [
       "<div>\n",
       "<style scoped>\n",
       "    .dataframe tbody tr th:only-of-type {\n",
       "        vertical-align: middle;\n",
       "    }\n",
       "\n",
       "    .dataframe tbody tr th {\n",
       "        vertical-align: top;\n",
       "    }\n",
       "\n",
       "    .dataframe thead th {\n",
       "        text-align: right;\n",
       "    }\n",
       "</style>\n",
       "<table border=\"1\" class=\"dataframe\">\n",
       "  <thead>\n",
       "    <tr style=\"text-align: right;\">\n",
       "      <th></th>\n",
       "      <th>zip</th>\n",
       "      <th>state</th>\n",
       "      <th>total_returns</th>\n",
       "      <th>agi_stub_1_ratio</th>\n",
       "      <th>agi_stub_2_ratio</th>\n",
       "      <th>agi_stub_3_ratio</th>\n",
       "      <th>agi_stub_4_ratio</th>\n",
       "      <th>agi_stub_5_ratio</th>\n",
       "      <th>agi_stub_6_ratio</th>\n",
       "    </tr>\n",
       "  </thead>\n",
       "  <tbody>\n",
       "    <tr>\n",
       "      <th>0</th>\n",
       "      <td>01001</td>\n",
       "      <td>MA</td>\n",
       "      <td>8655.0</td>\n",
       "      <td>0.507683</td>\n",
       "      <td>0.264240</td>\n",
       "      <td>0.000000</td>\n",
       "      <td>0.103293</td>\n",
       "      <td>0.112998</td>\n",
       "      <td>0.011785</td>\n",
       "    </tr>\n",
       "    <tr>\n",
       "      <th>1</th>\n",
       "      <td>01002</td>\n",
       "      <td>MA</td>\n",
       "      <td>10168.0</td>\n",
       "      <td>0.419945</td>\n",
       "      <td>0.179485</td>\n",
       "      <td>0.120378</td>\n",
       "      <td>0.083596</td>\n",
       "      <td>0.143588</td>\n",
       "      <td>0.053009</td>\n",
       "    </tr>\n",
       "    <tr>\n",
       "      <th>2</th>\n",
       "      <td>01005</td>\n",
       "      <td>MA</td>\n",
       "      <td>2201.0</td>\n",
       "      <td>0.330304</td>\n",
       "      <td>0.228987</td>\n",
       "      <td>0.169468</td>\n",
       "      <td>0.127669</td>\n",
       "      <td>0.133121</td>\n",
       "      <td>0.010450</td>\n",
       "    </tr>\n",
       "    <tr>\n",
       "      <th>3</th>\n",
       "      <td>01007</td>\n",
       "      <td>MA</td>\n",
       "      <td>7225.0</td>\n",
       "      <td>0.323599</td>\n",
       "      <td>0.200000</td>\n",
       "      <td>0.154464</td>\n",
       "      <td>0.116125</td>\n",
       "      <td>0.180069</td>\n",
       "      <td>0.025744</td>\n",
       "    </tr>\n",
       "    <tr>\n",
       "      <th>4</th>\n",
       "      <td>01008</td>\n",
       "      <td>MA</td>\n",
       "      <td>646.0</td>\n",
       "      <td>0.304954</td>\n",
       "      <td>0.226006</td>\n",
       "      <td>0.164087</td>\n",
       "      <td>0.153251</td>\n",
       "      <td>0.151703</td>\n",
       "      <td>0.000000</td>\n",
       "    </tr>\n",
       "  </tbody>\n",
       "</table>\n",
       "</div>"
      ],
      "text/plain": [
       "     zip state  total_returns  agi_stub_1_ratio  agi_stub_2_ratio  \\\n",
       "0  01001    MA         8655.0          0.507683          0.264240   \n",
       "1  01002    MA        10168.0          0.419945          0.179485   \n",
       "2  01005    MA         2201.0          0.330304          0.228987   \n",
       "3  01007    MA         7225.0          0.323599          0.200000   \n",
       "4  01008    MA          646.0          0.304954          0.226006   \n",
       "\n",
       "   agi_stub_3_ratio  agi_stub_4_ratio  agi_stub_5_ratio  agi_stub_6_ratio  \n",
       "0          0.000000          0.103293          0.112998          0.011785  \n",
       "1          0.120378          0.083596          0.143588          0.053009  \n",
       "2          0.169468          0.127669          0.133121          0.010450  \n",
       "3          0.154464          0.116125          0.180069          0.025744  \n",
       "4          0.164087          0.153251          0.151703          0.000000  "
      ]
     },
     "execution_count": 4,
     "metadata": {},
     "output_type": "execute_result"
    }
   ],
   "source": [
    "#Data File to Dataframe\n",
    "file='/Users/c32/Documents/NYCDSA/Projects/DATA/Ready_Data/1_Load_IRS_2011.csv'\n",
    "irs11=pd.read_csv(file, converters={'zip': str})\n",
    "print(irs11.shape)\n",
    "irs11.head()"
   ]
  },
  {
   "cell_type": "code",
   "execution_count": 5,
   "metadata": {},
   "outputs": [
    {
     "name": "stdout",
     "output_type": "stream",
     "text": [
      "(27654, 15)\n"
     ]
    },
    {
     "data": {
      "text/html": [
       "<div>\n",
       "<style scoped>\n",
       "    .dataframe tbody tr th:only-of-type {\n",
       "        vertical-align: middle;\n",
       "    }\n",
       "\n",
       "    .dataframe tbody tr th {\n",
       "        vertical-align: top;\n",
       "    }\n",
       "\n",
       "    .dataframe thead th {\n",
       "        text-align: right;\n",
       "    }\n",
       "</style>\n",
       "<table border=\"1\" class=\"dataframe\">\n",
       "  <thead>\n",
       "    <tr style=\"text-align: right;\">\n",
       "      <th></th>\n",
       "      <th>zip</th>\n",
       "      <th>state</th>\n",
       "      <th>total_returns</th>\n",
       "      <th>agi_stub_1_ratio</th>\n",
       "      <th>agi_stub_2_ratio</th>\n",
       "      <th>agi_stub_3_ratio</th>\n",
       "      <th>agi_stub_4_ratio</th>\n",
       "      <th>agi_stub_5_ratio</th>\n",
       "      <th>agi_stub_6_ratio</th>\n",
       "      <th>agi_stub_1_income</th>\n",
       "      <th>agi_stub_2_income</th>\n",
       "      <th>agi_stub_3_income</th>\n",
       "      <th>agi_stub_4_income</th>\n",
       "      <th>agi_stub_5_income</th>\n",
       "      <th>agi_stub_6_income</th>\n",
       "    </tr>\n",
       "  </thead>\n",
       "  <tbody>\n",
       "    <tr>\n",
       "      <th>0</th>\n",
       "      <td>01001</td>\n",
       "      <td>MA</td>\n",
       "      <td>9030.0</td>\n",
       "      <td>0.254707</td>\n",
       "      <td>0.232558</td>\n",
       "      <td>0.189369</td>\n",
       "      <td>0.115172</td>\n",
       "      <td>0.172757</td>\n",
       "      <td>0.035437</td>\n",
       "      <td>30325.0000</td>\n",
       "      <td>79712.0</td>\n",
       "      <td>106034.0</td>\n",
       "      <td>91146.0000</td>\n",
       "      <td>210887.0</td>\n",
       "      <td>116603.0000</td>\n",
       "    </tr>\n",
       "    <tr>\n",
       "      <th>1</th>\n",
       "      <td>01002</td>\n",
       "      <td>MA</td>\n",
       "      <td>9720.0</td>\n",
       "      <td>0.268519</td>\n",
       "      <td>0.207819</td>\n",
       "      <td>0.118313</td>\n",
       "      <td>0.083333</td>\n",
       "      <td>0.197531</td>\n",
       "      <td>0.124486</td>\n",
       "      <td>31643.0000</td>\n",
       "      <td>73567.0</td>\n",
       "      <td>71644.0</td>\n",
       "      <td>71058.0000</td>\n",
       "      <td>278260.0</td>\n",
       "      <td>567106.0000</td>\n",
       "    </tr>\n",
       "    <tr>\n",
       "      <th>2</th>\n",
       "      <td>01005</td>\n",
       "      <td>MA</td>\n",
       "      <td>2500.0</td>\n",
       "      <td>0.236000</td>\n",
       "      <td>0.228000</td>\n",
       "      <td>0.164000</td>\n",
       "      <td>0.124000</td>\n",
       "      <td>0.212000</td>\n",
       "      <td>0.036000</td>\n",
       "      <td>7483.0000</td>\n",
       "      <td>21180.0</td>\n",
       "      <td>25765.0</td>\n",
       "      <td>26745.0000</td>\n",
       "      <td>71615.0</td>\n",
       "      <td>33306.0000</td>\n",
       "    </tr>\n",
       "    <tr>\n",
       "      <th>3</th>\n",
       "      <td>01007</td>\n",
       "      <td>MA</td>\n",
       "      <td>7990.0</td>\n",
       "      <td>0.236546</td>\n",
       "      <td>0.185232</td>\n",
       "      <td>0.143930</td>\n",
       "      <td>0.111389</td>\n",
       "      <td>0.251564</td>\n",
       "      <td>0.071339</td>\n",
       "      <td>23259.0000</td>\n",
       "      <td>55073.0</td>\n",
       "      <td>71881.0</td>\n",
       "      <td>78044.0000</td>\n",
       "      <td>278063.0</td>\n",
       "      <td>196478.0000</td>\n",
       "    </tr>\n",
       "    <tr>\n",
       "      <th>4</th>\n",
       "      <td>01008</td>\n",
       "      <td>MA</td>\n",
       "      <td>620.0</td>\n",
       "      <td>0.193548</td>\n",
       "      <td>0.209677</td>\n",
       "      <td>0.161290</td>\n",
       "      <td>0.145161</td>\n",
       "      <td>0.241935</td>\n",
       "      <td>0.048387</td>\n",
       "      <td>1469.0001</td>\n",
       "      <td>4843.0</td>\n",
       "      <td>6610.0</td>\n",
       "      <td>7648.0001</td>\n",
       "      <td>20536.0</td>\n",
       "      <td>10088.0001</td>\n",
       "    </tr>\n",
       "  </tbody>\n",
       "</table>\n",
       "</div>"
      ],
      "text/plain": [
       "     zip state  total_returns  agi_stub_1_ratio  agi_stub_2_ratio  \\\n",
       "0  01001    MA         9030.0          0.254707          0.232558   \n",
       "1  01002    MA         9720.0          0.268519          0.207819   \n",
       "2  01005    MA         2500.0          0.236000          0.228000   \n",
       "3  01007    MA         7990.0          0.236546          0.185232   \n",
       "4  01008    MA          620.0          0.193548          0.209677   \n",
       "\n",
       "   agi_stub_3_ratio  agi_stub_4_ratio  agi_stub_5_ratio  agi_stub_6_ratio  \\\n",
       "0          0.189369          0.115172          0.172757          0.035437   \n",
       "1          0.118313          0.083333          0.197531          0.124486   \n",
       "2          0.164000          0.124000          0.212000          0.036000   \n",
       "3          0.143930          0.111389          0.251564          0.071339   \n",
       "4          0.161290          0.145161          0.241935          0.048387   \n",
       "\n",
       "   agi_stub_1_income  agi_stub_2_income  agi_stub_3_income  agi_stub_4_income  \\\n",
       "0         30325.0000            79712.0           106034.0         91146.0000   \n",
       "1         31643.0000            73567.0            71644.0         71058.0000   \n",
       "2          7483.0000            21180.0            25765.0         26745.0000   \n",
       "3         23259.0000            55073.0            71881.0         78044.0000   \n",
       "4          1469.0001             4843.0             6610.0          7648.0001   \n",
       "\n",
       "   agi_stub_5_income  agi_stub_6_income  \n",
       "0           210887.0        116603.0000  \n",
       "1           278260.0        567106.0000  \n",
       "2            71615.0         33306.0000  \n",
       "3           278063.0        196478.0000  \n",
       "4            20536.0         10088.0001  "
      ]
     },
     "execution_count": 5,
     "metadata": {},
     "output_type": "execute_result"
    }
   ],
   "source": [
    "#Data File to Dataframe\n",
    "file='/Users/c32/Documents/NYCDSA/Projects/DATA/Ready_Data/1_Load_IRS_2021.csv'\n",
    "irs21=pd.read_csv(file, converters={'zip': str})\n",
    "print(irs21.shape)\n",
    "irs21.head()"
   ]
  },
  {
   "cell_type": "markdown",
   "metadata": {},
   "source": [
    "### 1.1. Number of lines Verification\n",
    "The number of lines (one per zip code) in 2021 is different from 2011. Let's take a look at what is happening, how to move forward and what is the potential impact."
   ]
  },
  {
   "cell_type": "code",
   "execution_count": 6,
   "metadata": {},
   "outputs": [
    {
     "name": "stdout",
     "output_type": "stream",
     "text": [
      "number of zips in 21 that are not in 11:  97 which represents:  0.35 % of total\n",
      "number of zips in 11 that are not in 21:  281 which represents:  1.02 % of total\n"
     ]
    }
   ],
   "source": [
    "zip_list_21=irs21['zip'].tolist()\n",
    "zip_list_11=irs11['zip'].tolist()\n",
    "\n",
    "total_zips_11=irs21['zip'].nunique()\n",
    "total_zips_21=irs11['zip'].nunique()\n",
    "\n",
    "\n",
    "#what is in 21 that is not in 11:\n",
    "out_of_list_11 = [item for item in zip_list_21 if item not in zip_list_11]\n",
    "p_out_of_21=len(out_of_list_11)/total_zips_21*100\n",
    "print('number of zips in 21 that are not in 11: ',len(out_of_list_11),'which represents: ','{:.2f}'.format(p_out_of_21),'% of total')\n",
    "\n",
    "#what is in 11 that is not in 21:\n",
    "out_of_list_21 = [item for item in zip_list_11 if item not in zip_list_21]\n",
    "p_out_of_11=len(out_of_list_21)/total_zips_11*100\n",
    "print('number of zips in 11 that are not in 21: ',len(out_of_list_21),'which represents: ', '{:.2f}'.format(p_out_of_11),'% of total')\n",
    "#Let's see a few examples\n",
    "#print(out_of_list_21)\n"
   ]
  },
  {
   "cell_type": "code",
   "execution_count": 7,
   "metadata": {},
   "outputs": [],
   "source": [
    "#For optional evaluation\n",
    "\n",
    "#zip_codes_missing_in_2011=irs21[(irs21['zip'].isin(out_of_list_11) )]\n",
    "#zip_codes_missing_in_2021=irs11[(irs11['zip'].isin(out_of_list_21) )]"
   ]
  },
  {
   "cell_type": "markdown",
   "metadata": {},
   "source": [
    "### Reasons why some Zip codes are not present in both years\n",
    "**Administrative Changes:** ZIP codes are not officially defined by the U.S. Census Bureau but are assigned by the United States Postal Service (USPS). Administrative changes, such as the creation, consolidation, or elimination of ZIP codes, may occur over time due to changes in postal delivery routes or administrative boundaries.\n",
    "\n",
    "**Population Shifts:** Changes in population distribution and density within a region can influence the need for postal services and the assignment of ZIP codes. If the population in the area corresponding to ZIP code 04343 decreased significantly between 2011 and 2021, USPS might have adjusted postal delivery routes, resulting in the elimination of the ZIP code.\n",
    "\n",
    "**Postal Service Updates:** The USPS regularly reviews and updates postal delivery routes to optimize efficiency and service coverage. This process may lead to changes in ZIP code boundaries or the elimination of less-used ZIP codes.\n",
    "\n",
    "**Data Reporting:** Discrepancies in ZIP code data between censuses can also arise from differences in data collection methodologies, reporting practices, and data processing techniques used by the Census Bureau and other agencies.\n",
    "\n"
   ]
  },
  {
   "cell_type": "markdown",
   "metadata": {},
   "source": [
    "## 2. Merge the 2 Dataframes"
   ]
  },
  {
   "cell_type": "code",
   "execution_count": 8,
   "metadata": {},
   "outputs": [
    {
     "data": {
      "text/plain": [
       "(27935, 22)"
      ]
     },
     "execution_count": 8,
     "metadata": {},
     "output_type": "execute_result"
    }
   ],
   "source": [
    "#Using outer to keep the zips that exist only in year but not in the other. For those there will be NaNs.\n",
    "#Using the suffixes _21 and _11 to designate the respective years.\n",
    "irs=pd.merge(irs21,irs11,how='outer', on=['zip','state'], suffixes=('_21', '_11') )\n",
    "irs.shape\n"
   ]
  },
  {
   "cell_type": "markdown",
   "metadata": {},
   "source": [
    "### 2.1. Reorder the merged fields"
   ]
  },
  {
   "cell_type": "code",
   "execution_count": 9,
   "metadata": {},
   "outputs": [],
   "source": [
    "# I don't like the order. I will change it\n",
    "l_irs21=irs21.columns.tolist()\n",
    "l_irs11=irs11.columns.tolist()\n",
    "\n",
    "\n",
    "l_irs21_diff=set(l_irs21)-set(l_irs11)\n",
    "#print(l_irs21_diff)\n",
    "\n",
    "#zip is the first and only common non duplicated field.\n",
    "l_irs = ['zip','state']\n",
    "for item1, item2 in zip(l_irs21[2:], l_irs11[2:]):\n",
    "    l_irs.append(item1+'_21')\n",
    "    l_irs.append(item2+'_11')\n",
    "\n",
    "#adding the columns that are only available in 21\n",
    "l_irs = l_irs + list(l_irs21_diff)\n",
    "\n",
    "#use the combined list\n",
    "#print(l_irs)\n",
    "irs=irs[l_irs]\n"
   ]
  },
  {
   "cell_type": "markdown",
   "metadata": {},
   "source": [
    "## 3. Calculate Deltas"
   ]
  },
  {
   "cell_type": "code",
   "execution_count": 10,
   "metadata": {},
   "outputs": [
    {
     "name": "stdout",
     "output_type": "stream",
     "text": [
      "BEFORE shape:  (27935, 22)\n",
      "AFTER adding Delta columns shape:  (27935, 29)\n"
     ]
    }
   ],
   "source": [
    "\n",
    "#First field is 'zip' and there is nothing to calculate for it.\n",
    "#I take irs11 because it has less fields and those are the ones in common.\n",
    "all_common_fields=irs11.columns.tolist()[2:]\n",
    "\n",
    "print('BEFORE shape: ',irs.shape)\n",
    "\n",
    "for item in all_common_fields:\n",
    "    column_21=item+'_21'\n",
    "    column_11=item+'_11'\n",
    "    new_column='delta_'+item\n",
    "    #I don't have to worry about either columns containing nans because the result will be NaN and I can treat the result directly.\n",
    "    irs[new_column] = irs[column_21] - irs[column_11]\n",
    "print('AFTER adding Delta columns shape: ',irs.shape)\n",
    "\n",
    "l_irs = ['zip','state']\n",
    "for item in all_common_fields:\n",
    "    column_21=item+'_21'\n",
    "    column_11=item+'_11'\n",
    "    new_column='delta_'+item\n",
    "    l_irs.append(column_21)\n",
    "    l_irs.append(column_11)\n",
    "    l_irs.append(new_column)\n",
    "\n",
    "# I use the set of different fields that exist only in 21 and put them at the end\n",
    "l_irs = l_irs + list(l_irs21_diff)\n",
    "\n",
    "irs=irs[l_irs]"
   ]
  },
  {
   "cell_type": "markdown",
   "metadata": {},
   "source": [
    "### 4. Save the Changes"
   ]
  },
  {
   "cell_type": "code",
   "execution_count": 11,
   "metadata": {},
   "outputs": [
    {
     "name": "stdout",
     "output_type": "stream",
     "text": [
      "Saved!\n"
     ]
    }
   ],
   "source": [
    "#After all the changes, let's save in a csv file.\n",
    "\n",
    "import os\n",
    "outname = '2_Org_Irs.csv'\n",
    "outdir = '/Users/c32/Documents/NYCDSA/Projects/DATA/Ready_Data'\n",
    "if not os.path.exists(outdir):\n",
    "    os.mkdir(outdir)\n",
    "fullname = os.path.join(outdir, outname)    \n",
    "\n",
    "irs.to_csv(fullname, header=True, index=False)\n",
    "print(\"Saved!\")"
   ]
  }
 ],
 "metadata": {
  "kernelspec": {
   "display_name": "Python 3",
   "language": "python",
   "name": "python3"
  },
  "language_info": {
   "codemirror_mode": {
    "name": "ipython",
    "version": 3
   },
   "file_extension": ".py",
   "mimetype": "text/x-python",
   "name": "python",
   "nbconvert_exporter": "python",
   "pygments_lexer": "ipython3",
   "version": "3.12.3"
  }
 },
 "nbformat": 4,
 "nbformat_minor": 2
}
