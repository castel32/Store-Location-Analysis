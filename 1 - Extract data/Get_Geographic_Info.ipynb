{
 "cells": [
  {
   "cell_type": "markdown",
   "metadata": {},
   "source": [
    "# Importing USA Geography Hierarchy."
   ]
  },
  {
   "cell_type": "markdown",
   "metadata": {},
   "source": [
    "## 1. Load Data"
   ]
  },
  {
   "cell_type": "code",
   "execution_count": 7,
   "metadata": {},
   "outputs": [],
   "source": [
    "#Libraries and Settings\n",
    "import pandas as pd\n",
    "\n",
    "pd.set_option('display.max_columns', None)\n",
    "pd.set_option('display.max_rows',10)"
   ]
  },
  {
   "cell_type": "code",
   "execution_count": 8,
   "metadata": {},
   "outputs": [
    {
     "data": {
      "text/plain": [
       "(33122, 17)"
      ]
     },
     "execution_count": 8,
     "metadata": {},
     "output_type": "execute_result"
    }
   ],
   "source": [
    "#Data File to Dataframe\n",
    "file='/Users/c32/Documents/NYCDSA/Projects/DATA/US Zip Codes Points- United States of America/georef-united-states-of-america-zc-point@public.csv'\n",
    "df=pd.read_csv(file, sep=';', converters={'Zip Code':str})\n",
    "df.shape\n",
    "#df.head()"
   ]
  },
  {
   "cell_type": "markdown",
   "metadata": {},
   "source": [
    "## 2. Choose Columns of Interest"
   ]
  },
  {
   "cell_type": "markdown",
   "metadata": {},
   "source": [
    "### 2.1 Zip"
   ]
  },
  {
   "cell_type": "code",
   "execution_count": 9,
   "metadata": {},
   "outputs": [
    {
     "name": "stdout",
     "output_type": "stream",
     "text": [
      "BEFORE: zip codes with less than 5 digits:  2569\n",
      "AFTER:  zip codes with less than 5 digits:  0\n"
     ]
    }
   ],
   "source": [
    "#Zip\n",
    "#Check Lenght of Zip codes is correct\n",
    "geo=pd.DataFrame()\n",
    "geo['zip'] = df['Zip Code']\n",
    "print('BEFORE: zip codes with less than 5 digits: ',geo[geo['zip'].str.len()!=5]['zip'].nunique())\n",
    "#Because the zip code was stored as an int, it lost the leading 0s when they had them.\n",
    "\n",
    "def check_and_fix_the_zeroes(z):\n",
    "    if len(z)==5:\n",
    "        return z\n",
    "    if len(z)==4:\n",
    "        return '0'+z\n",
    "    if len(z)==3:\n",
    "        return '00'+z\n",
    "    \n",
    "geo['zip']=geo['zip'].apply(check_and_fix_the_zeroes)\n",
    "print('AFTER:  zip codes with less than 5 digits: ',geo[geo['zip'].str.len()!=5]['zip'].nunique())\n"
   ]
  },
  {
   "cell_type": "markdown",
   "metadata": {},
   "source": [
    "### 2.2. Other columns"
   ]
  },
  {
   "cell_type": "code",
   "execution_count": 10,
   "metadata": {},
   "outputs": [
    {
     "data": {
      "text/html": [
       "<div>\n",
       "<style scoped>\n",
       "    .dataframe tbody tr th:only-of-type {\n",
       "        vertical-align: middle;\n",
       "    }\n",
       "\n",
       "    .dataframe tbody tr th {\n",
       "        vertical-align: top;\n",
       "    }\n",
       "\n",
       "    .dataframe thead th {\n",
       "        text-align: right;\n",
       "    }\n",
       "</style>\n",
       "<table border=\"1\" class=\"dataframe\">\n",
       "  <thead>\n",
       "    <tr style=\"text-align: right;\">\n",
       "      <th></th>\n",
       "      <th>zip</th>\n",
       "      <th>city</th>\n",
       "      <th>state</th>\n",
       "      <th>state_short</th>\n",
       "      <th>county</th>\n",
       "      <th>county_code</th>\n",
       "      <th>population</th>\n",
       "      <th>density</th>\n",
       "      <th>timezone</th>\n",
       "      <th>gps_coordinates</th>\n",
       "    </tr>\n",
       "  </thead>\n",
       "  <tbody>\n",
       "    <tr>\n",
       "      <th>0</th>\n",
       "      <td>58784</td>\n",
       "      <td>Stanley</td>\n",
       "      <td>North Dakota</td>\n",
       "      <td>ND</td>\n",
       "      <td>Mountrail,Burke</td>\n",
       "      <td>38061,38013</td>\n",
       "      <td>3528.0</td>\n",
       "      <td>4.2</td>\n",
       "      <td>America/Chicago</td>\n",
       "      <td>48.36434, -102.42438</td>\n",
       "    </tr>\n",
       "    <tr>\n",
       "      <th>1</th>\n",
       "      <td>59029</td>\n",
       "      <td>Fromberg</td>\n",
       "      <td>Montana</td>\n",
       "      <td>MT</td>\n",
       "      <td>Carbon</td>\n",
       "      <td>30009</td>\n",
       "      <td>847.0</td>\n",
       "      <td>3.2</td>\n",
       "      <td>America/Denver</td>\n",
       "      <td>45.40732, -108.80085</td>\n",
       "    </tr>\n",
       "    <tr>\n",
       "      <th>2</th>\n",
       "      <td>59047</td>\n",
       "      <td>Livingston</td>\n",
       "      <td>Montana</td>\n",
       "      <td>MT</td>\n",
       "      <td>Park</td>\n",
       "      <td>30067</td>\n",
       "      <td>12728.0</td>\n",
       "      <td>5.5</td>\n",
       "      <td>America/Denver</td>\n",
       "      <td>45.54805, -110.569</td>\n",
       "    </tr>\n",
       "    <tr>\n",
       "      <th>3</th>\n",
       "      <td>59072</td>\n",
       "      <td>Roundup</td>\n",
       "      <td>Montana</td>\n",
       "      <td>MT</td>\n",
       "      <td>Musselshell,Petroleum</td>\n",
       "      <td>30065,30069</td>\n",
       "      <td>4328.0</td>\n",
       "      <td>1.7</td>\n",
       "      <td>America/Denver</td>\n",
       "      <td>46.4691, -108.53766</td>\n",
       "    </tr>\n",
       "    <tr>\n",
       "      <th>4</th>\n",
       "      <td>59106</td>\n",
       "      <td>Billings</td>\n",
       "      <td>Montana</td>\n",
       "      <td>MT</td>\n",
       "      <td>Yellowstone</td>\n",
       "      <td>30111</td>\n",
       "      <td>18281.0</td>\n",
       "      <td>72.7</td>\n",
       "      <td>America/Denver</td>\n",
       "      <td>45.80792, -108.6834</td>\n",
       "    </tr>\n",
       "  </tbody>\n",
       "</table>\n",
       "</div>"
      ],
      "text/plain": [
       "     zip        city         state state_short                 county  \\\n",
       "0  58784     Stanley  North Dakota          ND        Mountrail,Burke   \n",
       "1  59029    Fromberg       Montana          MT                 Carbon   \n",
       "2  59047  Livingston       Montana          MT                   Park   \n",
       "3  59072     Roundup       Montana          MT  Musselshell,Petroleum   \n",
       "4  59106    Billings       Montana          MT            Yellowstone   \n",
       "\n",
       "   county_code  population  density         timezone       gps_coordinates  \n",
       "0  38061,38013      3528.0      4.2  America/Chicago  48.36434, -102.42438  \n",
       "1        30009       847.0      3.2   America/Denver  45.40732, -108.80085  \n",
       "2        30067     12728.0      5.5   America/Denver    45.54805, -110.569  \n",
       "3  30065,30069      4328.0      1.7   America/Denver   46.4691, -108.53766  \n",
       "4        30111     18281.0     72.7   America/Denver   45.80792, -108.6834  "
      ]
     },
     "execution_count": 10,
     "metadata": {},
     "output_type": "execute_result"
    }
   ],
   "source": [
    "geo['city']=df['Official USPS city name']\n",
    "geo['state']=df['Official State Name']\n",
    "geo['state_short']=df['Official USPS State Code']\n",
    "geo['county']=df['Official County Name']\n",
    "geo['county_code']=df['Official County Code']\n",
    "geo['population']=df['Population']\n",
    "geo['density']=df['Density']\n",
    "geo['timezone']=df['Timezone']\n",
    "geo['gps_coordinates']=df['Geo Point']\n",
    "geo.head()"
   ]
  },
  {
   "cell_type": "markdown",
   "metadata": {},
   "source": [
    "## 3. Save the Data"
   ]
  },
  {
   "cell_type": "code",
   "execution_count": 11,
   "metadata": {},
   "outputs": [
    {
     "name": "stdout",
     "output_type": "stream",
     "text": [
      "Saved!\n"
     ]
    }
   ],
   "source": [
    "#After all the changes, let's save in a csv file.\n",
    "\n",
    "import os\n",
    "outname = '1_Load_Geographic_Data.csv'\n",
    "outdir = '/Users/c32/Documents/NYCDSA/Projects/DATA/Ready_Data'\n",
    "if not os.path.exists(outdir):\n",
    "    os.mkdir(outdir)\n",
    "fullname = os.path.join(outdir, outname)    \n",
    "\n",
    "geo.to_csv(fullname, header=True, index=False)\n",
    "print(\"Saved!\")"
   ]
  }
 ],
 "metadata": {
  "kernelspec": {
   "display_name": "Python 3",
   "language": "python",
   "name": "python3"
  },
  "language_info": {
   "codemirror_mode": {
    "name": "ipython",
    "version": 3
   },
   "file_extension": ".py",
   "mimetype": "text/x-python",
   "name": "python",
   "nbconvert_exporter": "python",
   "pygments_lexer": "ipython3",
   "version": "3.12.3"
  }
 },
 "nbformat": 4,
 "nbformat_minor": 2
}
