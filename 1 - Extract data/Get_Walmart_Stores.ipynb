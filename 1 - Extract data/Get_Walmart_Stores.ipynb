{
 "cells": [
  {
   "cell_type": "markdown",
   "metadata": {},
   "source": [
    "# Importing Walmart USA Stores"
   ]
  },
  {
   "cell_type": "markdown",
   "metadata": {},
   "source": [
    "## 1. Load Source Data"
   ]
  },
  {
   "cell_type": "code",
   "execution_count": 37,
   "metadata": {},
   "outputs": [],
   "source": [
    "#Libraries and Settings\n",
    "import pandas as pd\n",
    "\n",
    "pd.set_option('display.max_columns', None)\n",
    "pd.set_option('display.max_rows',10)"
   ]
  },
  {
   "cell_type": "code",
   "execution_count": 38,
   "metadata": {},
   "outputs": [
    {
     "data": {
      "text/plain": [
       "(4654, 23)"
      ]
     },
     "execution_count": 38,
     "metadata": {},
     "output_type": "execute_result"
    }
   ],
   "source": [
    "#Data File to Dataframe\n",
    "file='/Users/c32/Documents/NYCDSA/Projects/DATA/Walmart Stores/walmart_2018_11_06.csv'\n",
    "df=pd.read_csv(file, converters={'zip_code': str})\n",
    "df.shape"
   ]
  },
  {
   "cell_type": "code",
   "execution_count": 39,
   "metadata": {},
   "outputs": [
    {
     "data": {
      "text/html": [
       "<div>\n",
       "<style scoped>\n",
       "    .dataframe tbody tr th:only-of-type {\n",
       "        vertical-align: middle;\n",
       "    }\n",
       "\n",
       "    .dataframe tbody tr th {\n",
       "        vertical-align: top;\n",
       "    }\n",
       "\n",
       "    .dataframe thead th {\n",
       "        text-align: right;\n",
       "    }\n",
       "</style>\n",
       "<table border=\"1\" class=\"dataframe\">\n",
       "  <thead>\n",
       "    <tr style=\"text-align: right;\">\n",
       "      <th></th>\n",
       "      <th>index</th>\n",
       "      <th>name</th>\n",
       "      <th>url</th>\n",
       "      <th>street_address</th>\n",
       "      <th>city</th>\n",
       "      <th>state</th>\n",
       "      <th>zip_code</th>\n",
       "      <th>country</th>\n",
       "      <th>phone_number_1</th>\n",
       "      <th>phone_number_2</th>\n",
       "      <th>fax_1</th>\n",
       "      <th>fax_2</th>\n",
       "      <th>email_1</th>\n",
       "      <th>email_2</th>\n",
       "      <th>website</th>\n",
       "      <th>open_hours</th>\n",
       "      <th>latitude</th>\n",
       "      <th>longitude</th>\n",
       "      <th>facebook</th>\n",
       "      <th>twitter</th>\n",
       "      <th>instagram</th>\n",
       "      <th>pinterest</th>\n",
       "      <th>youtube</th>\n",
       "    </tr>\n",
       "  </thead>\n",
       "  <tbody>\n",
       "    <tr>\n",
       "      <th>0</th>\n",
       "      <td>0</td>\n",
       "      <td>Conway Supercenter</td>\n",
       "      <td>https://www.walmart.com/store/5/conway-ar/details</td>\n",
       "      <td>1155 Hwy 65 North</td>\n",
       "      <td>Conway</td>\n",
       "      <td>AR</td>\n",
       "      <td>72032</td>\n",
       "      <td>US</td>\n",
       "      <td>501-329-0023</td>\n",
       "      <td>NaN</td>\n",
       "      <td>NaN</td>\n",
       "      <td>NaN</td>\n",
       "      <td>NaN</td>\n",
       "      <td>NaN</td>\n",
       "      <td>NaN</td>\n",
       "      <td>monday - friday : 00:00-24:00, saturday : 00:0...</td>\n",
       "      <td>35.10866</td>\n",
       "      <td>-92.436905</td>\n",
       "      <td>NaN</td>\n",
       "      <td>NaN</td>\n",
       "      <td>NaN</td>\n",
       "      <td>NaN</td>\n",
       "      <td>NaN</td>\n",
       "    </tr>\n",
       "  </tbody>\n",
       "</table>\n",
       "</div>"
      ],
      "text/plain": [
       "   index                name  \\\n",
       "0      0  Conway Supercenter   \n",
       "\n",
       "                                                 url     street_address  \\\n",
       "0  https://www.walmart.com/store/5/conway-ar/details  1155 Hwy 65 North   \n",
       "\n",
       "     city state zip_code country phone_number_1  phone_number_2  fax_1  fax_2  \\\n",
       "0  Conway    AR    72032      US   501-329-0023             NaN    NaN    NaN   \n",
       "\n",
       "   email_1  email_2  website  \\\n",
       "0      NaN      NaN      NaN   \n",
       "\n",
       "                                          open_hours  latitude  longitude  \\\n",
       "0  monday - friday : 00:00-24:00, saturday : 00:0...  35.10866 -92.436905   \n",
       "\n",
       "   facebook  twitter  instagram  pinterest  youtube  \n",
       "0       NaN      NaN        NaN        NaN      NaN  "
      ]
     },
     "execution_count": 39,
     "metadata": {},
     "output_type": "execute_result"
    }
   ],
   "source": [
    "df.head(1)"
   ]
  },
  {
   "cell_type": "markdown",
   "metadata": {},
   "source": [
    "## 2. Verify Columns"
   ]
  },
  {
   "cell_type": "markdown",
   "metadata": {},
   "source": [
    "### 2.1. Zip"
   ]
  },
  {
   "cell_type": "code",
   "execution_count": 40,
   "metadata": {},
   "outputs": [
    {
     "name": "stdout",
     "output_type": "stream",
     "text": [
      "zip codes with less than 5 digits:  221\n",
      "zip codes with less than 5 digits:  0\n"
     ]
    }
   ],
   "source": [
    "#Zip\n",
    "#Check Lenght of Zip codes is correct\n",
    "df['zip']=df['zip_code']\n",
    "print('zip codes with less than 5 digits: ',df[df['zip'].str.len()!=5]['zip'].nunique())\n",
    "#Because the zip code was stored as an int, it lost the leading 0s when they had them.\n",
    "\n",
    "def check_and_fix_the_zeroes(z):\n",
    "    if len(z)==5:\n",
    "        return z\n",
    "    if len(z)==4:\n",
    "        return '0'+z\n",
    "    if len(z)==3:\n",
    "        return '00'+z\n",
    "    \n",
    "df['zip']=df['zip'].apply(check_and_fix_the_zeroes)\n",
    "print('zip codes with less than 5 digits: ',df[df['zip'].str.len()!=5]['zip'].nunique())\n"
   ]
  },
  {
   "cell_type": "markdown",
   "metadata": {},
   "source": [
    "### 2.2. Type of Store"
   ]
  },
  {
   "cell_type": "code",
   "execution_count": 41,
   "metadata": {},
   "outputs": [],
   "source": [
    "# The type of store is in the name let's separate it\n",
    "def extract_type_of_store(store):\n",
    "    if store.find('Supercenter') != -1:\n",
    "        return('Supercenter')\n",
    "    if store.find('Neighborhood Market') != -1:\n",
    "        return('Neighborhood Market')\n",
    "    if store.find('Pickup only') != -1:\n",
    "        return('Pickup only')\n",
    "    if store.find('Pharmacy') != -1:\n",
    "        return('Pharmacy')\n",
    "    if store.find('Gas Station') != -1:\n",
    "        return('Gas Station')\n",
    "    if store.find('Store') != -1:\n",
    "        return('Store')\n",
    "    else:\n",
    "        return('IDK')\n",
    "\n",
    "df['store_type']=df['name'].apply(extract_type_of_store)"
   ]
  },
  {
   "cell_type": "markdown",
   "metadata": {},
   "source": [
    "## 3.1. Choose Columns to Keep"
   ]
  },
  {
   "cell_type": "code",
   "execution_count": 42,
   "metadata": {},
   "outputs": [],
   "source": [
    "walmart=df[['name','store_type','zip','latitude','longitude','street_address','open_hours','phone_number_1','url']]"
   ]
  },
  {
   "cell_type": "markdown",
   "metadata": {},
   "source": [
    "## 4. Save the changes"
   ]
  },
  {
   "cell_type": "code",
   "execution_count": 43,
   "metadata": {},
   "outputs": [
    {
     "name": "stderr",
     "output_type": "stream",
     "text": [
      "/var/folders/28/r20yv7pd29z5j8471t_sswkc0000gq/T/ipykernel_45964/1871354238.py:4: SettingWithCopyWarning: \n",
      "A value is trying to be set on a copy of a slice from a DataFrame.\n",
      "Try using .loc[row_indexer,col_indexer] = value instead\n",
      "\n",
      "See the caveats in the documentation: https://pandas.pydata.org/pandas-docs/stable/user_guide/indexing.html#returning-a-view-versus-a-copy\n",
      "  walmart[walmart['zip']=='75033']='75034'\n",
      "/var/folders/28/r20yv7pd29z5j8471t_sswkc0000gq/T/ipykernel_45964/1871354238.py:4: FutureWarning: Setting an item of incompatible dtype is deprecated and will raise an error in a future version of pandas. Value '75034' has dtype incompatible with float64, please explicitly cast to a compatible dtype first.\n",
      "  walmart[walmart['zip']=='75033']='75034'\n",
      "/var/folders/28/r20yv7pd29z5j8471t_sswkc0000gq/T/ipykernel_45964/1871354238.py:4: FutureWarning: Setting an item of incompatible dtype is deprecated and will raise an error in a future version of pandas. Value '75034' has dtype incompatible with float64, please explicitly cast to a compatible dtype first.\n",
      "  walmart[walmart['zip']=='75033']='75034'\n",
      "/var/folders/28/r20yv7pd29z5j8471t_sswkc0000gq/T/ipykernel_45964/1871354238.py:9: SettingWithCopyWarning: \n",
      "A value is trying to be set on a copy of a slice from a DataFrame.\n",
      "Try using .loc[row_indexer,col_indexer] = value instead\n",
      "\n",
      "See the caveats in the documentation: https://pandas.pydata.org/pandas-docs/stable/user_guide/indexing.html#returning-a-view-versus-a-copy\n",
      "  walmart[walmart['zip']=='32163']='34731'\n"
     ]
    }
   ],
   "source": [
    "# There is a Store in Frisco TX that has the zip code 75033 and this zipcode is relatively new and there is no previous data related to it.\n",
    "# Also, the pyzip package is not up to the date of creation of this zip code and therefore does not have any information about adjacent zip codes.\n",
    "# For viability reasons I am going to use the old zip code which serves better at getting the most informative results.\n",
    "walmart[walmart['zip']=='75033']='75034'\n",
    "\n",
    "#ZIP Code 32163 is located in The Villages Florida. Created in 2013. \n",
    "#Portions of 32163 are also in Wildwood and Fruitland Park. 32163 is primarily within Sumter County, with some portions in Lake County. Regionally, it is located in Metro Orlando.\n",
    "#Reasigning zip code to the nearest zip Fruitland Park.\n",
    "walmart[walmart['zip']=='32163']='34731'"
   ]
  },
  {
   "cell_type": "code",
   "execution_count": 44,
   "metadata": {},
   "outputs": [
    {
     "name": "stdout",
     "output_type": "stream",
     "text": [
      "Saved!\n"
     ]
    }
   ],
   "source": [
    "#After all the changes, let's save in a csv file.\n",
    "\n",
    "import os\n",
    "outname = '1_Load_Walmart.csv'\n",
    "outdir = '/Users/c32/Documents/NYCDSA/Projects/DATA/Ready_Data'\n",
    "if not os.path.exists(outdir):\n",
    "    os.mkdir(outdir)\n",
    "fullname = os.path.join(outdir, outname)    \n",
    "\n",
    "walmart.to_csv(fullname, header=True, index=False)\n",
    "print(\"Saved!\")"
   ]
  },
  {
   "cell_type": "code",
   "execution_count": 45,
   "metadata": {},
   "outputs": [
    {
     "data": {
      "text/html": [
       "<div>\n",
       "<style scoped>\n",
       "    .dataframe tbody tr th:only-of-type {\n",
       "        vertical-align: middle;\n",
       "    }\n",
       "\n",
       "    .dataframe tbody tr th {\n",
       "        vertical-align: top;\n",
       "    }\n",
       "\n",
       "    .dataframe thead th {\n",
       "        text-align: right;\n",
       "    }\n",
       "</style>\n",
       "<table border=\"1\" class=\"dataframe\">\n",
       "  <thead>\n",
       "    <tr style=\"text-align: right;\">\n",
       "      <th></th>\n",
       "      <th>name</th>\n",
       "      <th>store_type</th>\n",
       "      <th>zip</th>\n",
       "      <th>latitude</th>\n",
       "      <th>longitude</th>\n",
       "      <th>street_address</th>\n",
       "      <th>open_hours</th>\n",
       "      <th>phone_number_1</th>\n",
       "      <th>url</th>\n",
       "    </tr>\n",
       "  </thead>\n",
       "  <tbody>\n",
       "    <tr>\n",
       "      <th>0</th>\n",
       "      <td>Conway Supercenter</td>\n",
       "      <td>Supercenter</td>\n",
       "      <td>72032</td>\n",
       "      <td>35.10866</td>\n",
       "      <td>-92.436905</td>\n",
       "      <td>1155 Hwy 65 North</td>\n",
       "      <td>monday - friday : 00:00-24:00, saturday : 00:0...</td>\n",
       "      <td>501-329-0023</td>\n",
       "      <td>https://www.walmart.com/store/5/conway-ar/details</td>\n",
       "    </tr>\n",
       "    <tr>\n",
       "      <th>1</th>\n",
       "      <td>Sikeston Supercenter</td>\n",
       "      <td>Supercenter</td>\n",
       "      <td>63801</td>\n",
       "      <td>36.857394</td>\n",
       "      <td>-89.586051</td>\n",
       "      <td>1303 S Main St</td>\n",
       "      <td>monday - friday : 00:00-24:00, saturday : 00:0...</td>\n",
       "      <td>573-472-3020</td>\n",
       "      <td>https://www.walmart.com/store/9/sikeston-mo/de...</td>\n",
       "    </tr>\n",
       "    <tr>\n",
       "      <th>2</th>\n",
       "      <td>Tahlequah Supercenter</td>\n",
       "      <td>Supercenter</td>\n",
       "      <td>74464</td>\n",
       "      <td>35.888765</td>\n",
       "      <td>-94.979859</td>\n",
       "      <td>2020 S Muskogee Ave</td>\n",
       "      <td>monday - friday : 00:00-24:00, saturday : 00:0...</td>\n",
       "      <td>918-456-8804</td>\n",
       "      <td>https://www.walmart.com/store/10/tahlequah-ok/...</td>\n",
       "    </tr>\n",
       "    <tr>\n",
       "      <th>3</th>\n",
       "      <td>Mountain Home Supercenter</td>\n",
       "      <td>Supercenter</td>\n",
       "      <td>72653</td>\n",
       "      <td>36.354957</td>\n",
       "      <td>-92.341026</td>\n",
       "      <td>65 Wal Mart Dr</td>\n",
       "      <td>monday - friday : 00:00-24:00, saturday : 00:0...</td>\n",
       "      <td>870-492-9299</td>\n",
       "      <td>https://www.walmart.com/store/11/mountain-home...</td>\n",
       "    </tr>\n",
       "    <tr>\n",
       "      <th>4</th>\n",
       "      <td>Claremore Supercenter</td>\n",
       "      <td>Supercenter</td>\n",
       "      <td>74017</td>\n",
       "      <td>36.293955</td>\n",
       "      <td>-95.627125</td>\n",
       "      <td>1500 S Lynn Riggs Blvd</td>\n",
       "      <td>monday - friday : 00:00-24:00, saturday : 00:0...</td>\n",
       "      <td>918-341-2765</td>\n",
       "      <td>https://www.walmart.com/store/12/claremore-ok/...</td>\n",
       "    </tr>\n",
       "  </tbody>\n",
       "</table>\n",
       "</div>"
      ],
      "text/plain": [
       "                        name   store_type    zip   latitude  longitude  \\\n",
       "0         Conway Supercenter  Supercenter  72032   35.10866 -92.436905   \n",
       "1       Sikeston Supercenter  Supercenter  63801  36.857394 -89.586051   \n",
       "2      Tahlequah Supercenter  Supercenter  74464  35.888765 -94.979859   \n",
       "3  Mountain Home Supercenter  Supercenter  72653  36.354957 -92.341026   \n",
       "4      Claremore Supercenter  Supercenter  74017  36.293955 -95.627125   \n",
       "\n",
       "           street_address                                         open_hours  \\\n",
       "0       1155 Hwy 65 North  monday - friday : 00:00-24:00, saturday : 00:0...   \n",
       "1          1303 S Main St  monday - friday : 00:00-24:00, saturday : 00:0...   \n",
       "2     2020 S Muskogee Ave  monday - friday : 00:00-24:00, saturday : 00:0...   \n",
       "3          65 Wal Mart Dr  monday - friday : 00:00-24:00, saturday : 00:0...   \n",
       "4  1500 S Lynn Riggs Blvd  monday - friday : 00:00-24:00, saturday : 00:0...   \n",
       "\n",
       "  phone_number_1                                                url  \n",
       "0   501-329-0023  https://www.walmart.com/store/5/conway-ar/details  \n",
       "1   573-472-3020  https://www.walmart.com/store/9/sikeston-mo/de...  \n",
       "2   918-456-8804  https://www.walmart.com/store/10/tahlequah-ok/...  \n",
       "3   870-492-9299  https://www.walmart.com/store/11/mountain-home...  \n",
       "4   918-341-2765  https://www.walmart.com/store/12/claremore-ok/...  "
      ]
     },
     "execution_count": 45,
     "metadata": {},
     "output_type": "execute_result"
    }
   ],
   "source": [
    "walmart.head()"
   ]
  }
 ],
 "metadata": {
  "kernelspec": {
   "display_name": "Python 3",
   "language": "python",
   "name": "python3"
  },
  "language_info": {
   "codemirror_mode": {
    "name": "ipython",
    "version": 3
   },
   "file_extension": ".py",
   "mimetype": "text/x-python",
   "name": "python",
   "nbconvert_exporter": "python",
   "pygments_lexer": "ipython3",
   "version": "3.12.3"
  }
 },
 "nbformat": 4,
 "nbformat_minor": 2
}
