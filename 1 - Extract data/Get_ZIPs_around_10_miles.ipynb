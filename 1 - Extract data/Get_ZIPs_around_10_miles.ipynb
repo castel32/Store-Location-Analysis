{
 "cells": [
  {
   "cell_type": "markdown",
   "metadata": {},
   "source": [
    "# Calculate a 9 mile radius of each zip code"
   ]
  },
  {
   "cell_type": "markdown",
   "metadata": {},
   "source": [
    "For consideration: \n",
    "\n",
    "\"Big-box retailers (e.g., Walmart, Target): These stores often draw customers from a larger area, so a radius of 10 to 15 miles is reasonable.\""
   ]
  },
  {
   "cell_type": "markdown",
   "metadata": {},
   "source": [
    "## 0. Load Libraries "
   ]
  },
  {
   "cell_type": "code",
   "execution_count": 7,
   "metadata": {},
   "outputs": [],
   "source": [
    "#Libraries and Settings\n",
    "import pandas as pd\n",
    "\n",
    "from pyzipcode import ZipCodeDatabase\n",
    "\n",
    "pd.set_option('display.max_columns', None)\n",
    "pd.set_option('display.max_rows',10)\n",
    "\n"
   ]
  },
  {
   "cell_type": "markdown",
   "metadata": {},
   "source": [
    "## 1. Load Data"
   ]
  },
  {
   "cell_type": "code",
   "execution_count": 8,
   "metadata": {},
   "outputs": [
    {
     "data": {
      "text/plain": [
       "(33129, 10)"
      ]
     },
     "execution_count": 8,
     "metadata": {},
     "output_type": "execute_result"
    }
   ],
   "source": [
    "#Data File to Dataframe\n",
    "file='/Users/c32/Documents/NYCDSA/Projects/DATA/Ready_Data/1_Load_Geographic_Data.csv'\n",
    "df=pd.read_csv(file, converters={'zip':str})\n",
    "df.shape"
   ]
  },
  {
   "cell_type": "markdown",
   "metadata": {},
   "source": [
    "## 2. Calculate List of Zip Codes Around."
   ]
  },
  {
   "cell_type": "markdown",
   "metadata": {},
   "source": [
    "Calculate Distances: Using the Haversine formula, the method calculates the great-circle distance between the central ZIP code and all other ZIP codes in the database. The Haversine formula accounts for the spherical shape of the Earth and is used to compute the shortest distance over the earth's surface."
   ]
  },
  {
   "cell_type": "code",
   "execution_count": 9,
   "metadata": {},
   "outputs": [],
   "source": [
    "#Set the mile Radius here:\n",
    "mile_radius=9\n",
    "\n",
    "zcdb = ZipCodeDatabase()\n",
    "\n",
    "def surounding_zips(center_zip):\n",
    "    try: \n",
    "        in_radius=[z.zip for z in zcdb.get_zipcodes_around_radius(center_zip, mile_radius)] #zip codes within 9miles of the center of 'center_zip'\n",
    "        #radius_utf = [x.encode('UTF-8') for x in in_radius] #I don't seem to need this. \n",
    "        return in_radius\n",
    "    except: return[center_zip]\n",
    "\n",
    "### --> THIS CALCULATION TAKES OVER 1minute !! <-- ###\n",
    "df['zips_around']=df['zip'].apply(surounding_zips)"
   ]
  },
  {
   "cell_type": "code",
   "execution_count": 10,
   "metadata": {},
   "outputs": [],
   "source": [
    "#Investigate the resulting lists of zipcodes.\n",
    "def get_list_length(row):\n",
    "    return len(row['zips_around'])\n",
    "\n",
    "df['length_of_list'] = df.apply(lambda row: get_list_length(row), axis=1)\n",
    "\n",
    "a=(df['length_of_list'].value_counts())\n",
    "\n",
    "result=df[['zip', 'length_of_list']].sort_values(by='length_of_list', ascending=False)"
   ]
  },
  {
   "cell_type": "markdown",
   "metadata": {},
   "source": [
    "## 3. Save The results"
   ]
  },
  {
   "cell_type": "code",
   "execution_count": 11,
   "metadata": {},
   "outputs": [
    {
     "name": "stdout",
     "output_type": "stream",
     "text": [
      "Saved!\n"
     ]
    }
   ],
   "source": [
    "#After all the changes, let's save in a csv file.\n",
    "\n",
    "import os\n",
    "outname = '1_Load_Geographic_Data.csv'\n",
    "outdir = '/Users/c32/Documents/NYCDSA/Projects/DATA/Ready_Data'\n",
    "if not os.path.exists(outdir):\n",
    "    os.mkdir(outdir)\n",
    "fullname = os.path.join(outdir, outname)    \n",
    "\n",
    "df.to_csv(fullname, header=True, index=False)\n",
    "print(\"Saved!\")"
   ]
  },
  {
   "cell_type": "code",
   "execution_count": 12,
   "metadata": {},
   "outputs": [
    {
     "data": {
      "text/html": [
       "<div>\n",
       "<style scoped>\n",
       "    .dataframe tbody tr th:only-of-type {\n",
       "        vertical-align: middle;\n",
       "    }\n",
       "\n",
       "    .dataframe tbody tr th {\n",
       "        vertical-align: top;\n",
       "    }\n",
       "\n",
       "    .dataframe thead th {\n",
       "        text-align: right;\n",
       "    }\n",
       "</style>\n",
       "<table border=\"1\" class=\"dataframe\">\n",
       "  <thead>\n",
       "    <tr style=\"text-align: right;\">\n",
       "      <th></th>\n",
       "      <th>zip</th>\n",
       "      <th>city</th>\n",
       "      <th>state</th>\n",
       "      <th>state_short</th>\n",
       "      <th>county</th>\n",
       "      <th>county_code</th>\n",
       "      <th>population</th>\n",
       "      <th>density</th>\n",
       "      <th>timezone</th>\n",
       "      <th>gps_coordinates</th>\n",
       "      <th>zips_around</th>\n",
       "      <th>length_of_list</th>\n",
       "    </tr>\n",
       "  </thead>\n",
       "  <tbody>\n",
       "    <tr>\n",
       "      <th>0</th>\n",
       "      <td>58784</td>\n",
       "      <td>Stanley</td>\n",
       "      <td>North Dakota</td>\n",
       "      <td>ND</td>\n",
       "      <td>Mountrail,Burke</td>\n",
       "      <td>38061,38013</td>\n",
       "      <td>3528.0</td>\n",
       "      <td>4.2</td>\n",
       "      <td>America/Chicago</td>\n",
       "      <td>48.36434, -102.42438</td>\n",
       "      <td>[58784]</td>\n",
       "      <td>1</td>\n",
       "    </tr>\n",
       "    <tr>\n",
       "      <th>1</th>\n",
       "      <td>59029</td>\n",
       "      <td>Fromberg</td>\n",
       "      <td>Montana</td>\n",
       "      <td>MT</td>\n",
       "      <td>Carbon</td>\n",
       "      <td>30009</td>\n",
       "      <td>847.0</td>\n",
       "      <td>3.2</td>\n",
       "      <td>America/Denver</td>\n",
       "      <td>45.40732, -108.80085</td>\n",
       "      <td>[59029, 59041]</td>\n",
       "      <td>2</td>\n",
       "    </tr>\n",
       "    <tr>\n",
       "      <th>2</th>\n",
       "      <td>59047</td>\n",
       "      <td>Livingston</td>\n",
       "      <td>Montana</td>\n",
       "      <td>MT</td>\n",
       "      <td>Park</td>\n",
       "      <td>30067</td>\n",
       "      <td>12728.0</td>\n",
       "      <td>5.5</td>\n",
       "      <td>America/Denver</td>\n",
       "      <td>45.54805, -110.569</td>\n",
       "      <td>[59047]</td>\n",
       "      <td>1</td>\n",
       "    </tr>\n",
       "    <tr>\n",
       "      <th>3</th>\n",
       "      <td>59072</td>\n",
       "      <td>Roundup</td>\n",
       "      <td>Montana</td>\n",
       "      <td>MT</td>\n",
       "      <td>Musselshell,Petroleum</td>\n",
       "      <td>30065,30069</td>\n",
       "      <td>4328.0</td>\n",
       "      <td>1.7</td>\n",
       "      <td>America/Denver</td>\n",
       "      <td>46.4691, -108.53766</td>\n",
       "      <td>[59072]</td>\n",
       "      <td>1</td>\n",
       "    </tr>\n",
       "    <tr>\n",
       "      <th>4</th>\n",
       "      <td>59106</td>\n",
       "      <td>Billings</td>\n",
       "      <td>Montana</td>\n",
       "      <td>MT</td>\n",
       "      <td>Yellowstone</td>\n",
       "      <td>30111</td>\n",
       "      <td>18281.0</td>\n",
       "      <td>72.7</td>\n",
       "      <td>America/Denver</td>\n",
       "      <td>45.80792, -108.6834</td>\n",
       "      <td>[59002, 59044, 59102, 59106]</td>\n",
       "      <td>4</td>\n",
       "    </tr>\n",
       "  </tbody>\n",
       "</table>\n",
       "</div>"
      ],
      "text/plain": [
       "     zip        city         state state_short                 county  \\\n",
       "0  58784     Stanley  North Dakota          ND        Mountrail,Burke   \n",
       "1  59029    Fromberg       Montana          MT                 Carbon   \n",
       "2  59047  Livingston       Montana          MT                   Park   \n",
       "3  59072     Roundup       Montana          MT  Musselshell,Petroleum   \n",
       "4  59106    Billings       Montana          MT            Yellowstone   \n",
       "\n",
       "   county_code  population  density         timezone       gps_coordinates  \\\n",
       "0  38061,38013      3528.0      4.2  America/Chicago  48.36434, -102.42438   \n",
       "1        30009       847.0      3.2   America/Denver  45.40732, -108.80085   \n",
       "2        30067     12728.0      5.5   America/Denver    45.54805, -110.569   \n",
       "3  30065,30069      4328.0      1.7   America/Denver   46.4691, -108.53766   \n",
       "4        30111     18281.0     72.7   America/Denver   45.80792, -108.6834   \n",
       "\n",
       "                    zips_around  length_of_list  \n",
       "0                       [58784]               1  \n",
       "1                [59029, 59041]               2  \n",
       "2                       [59047]               1  \n",
       "3                       [59072]               1  \n",
       "4  [59002, 59044, 59102, 59106]               4  "
      ]
     },
     "execution_count": 12,
     "metadata": {},
     "output_type": "execute_result"
    }
   ],
   "source": [
    "df.head()"
   ]
  }
 ],
 "metadata": {
  "kernelspec": {
   "display_name": "Python 3",
   "language": "python",
   "name": "python3"
  },
  "language_info": {
   "codemirror_mode": {
    "name": "ipython",
    "version": 3
   },
   "file_extension": ".py",
   "mimetype": "text/x-python",
   "name": "python",
   "nbconvert_exporter": "python",
   "pygments_lexer": "ipython3",
   "version": "3.12.3"
  }
 },
 "nbformat": 4,
 "nbformat_minor": 2
}
