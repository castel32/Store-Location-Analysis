{
 "cells": [
  {
   "cell_type": "markdown",
   "metadata": {},
   "source": [
    "# Importing Costco USA Stores"
   ]
  },
  {
   "cell_type": "markdown",
   "metadata": {},
   "source": [
    "## 1. Load Source Data"
   ]
  },
  {
   "cell_type": "code",
   "execution_count": 29,
   "metadata": {},
   "outputs": [],
   "source": [
    "#Libraries and Settings\n",
    "import pandas as pd\n",
    "\n",
    "pd.set_option('display.max_columns', None)\n",
    "pd.set_option('display.max_rows',10)"
   ]
  },
  {
   "cell_type": "code",
   "execution_count": 30,
   "metadata": {},
   "outputs": [
    {
     "data": {
      "text/plain": [
       "Store Name    object\n",
       "Address       object\n",
       "City          object\n",
       "State         object\n",
       "Zipcode       object\n",
       "Phone         object\n",
       "URL           object\n",
       "dtype: object"
      ]
     },
     "execution_count": 30,
     "metadata": {},
     "output_type": "execute_result"
    }
   ],
   "source": [
    "#Data File to Dataframe\n",
    "file='/Users/c32/Documents/NYCDSA/Projects/DATA/Costco Stores/costco-feb-2024.xlsx'\n",
    "df=pd.read_excel(file)\n",
    "df.shape\n",
    "df.dtypes"
   ]
  },
  {
   "cell_type": "code",
   "execution_count": 31,
   "metadata": {},
   "outputs": [
    {
     "data": {
      "text/html": [
       "<div>\n",
       "<style scoped>\n",
       "    .dataframe tbody tr th:only-of-type {\n",
       "        vertical-align: middle;\n",
       "    }\n",
       "\n",
       "    .dataframe tbody tr th {\n",
       "        vertical-align: top;\n",
       "    }\n",
       "\n",
       "    .dataframe thead th {\n",
       "        text-align: right;\n",
       "    }\n",
       "</style>\n",
       "<table border=\"1\" class=\"dataframe\">\n",
       "  <thead>\n",
       "    <tr style=\"text-align: right;\">\n",
       "      <th></th>\n",
       "      <th>Store Name</th>\n",
       "      <th>Address</th>\n",
       "      <th>City</th>\n",
       "      <th>State</th>\n",
       "      <th>Zipcode</th>\n",
       "      <th>Phone</th>\n",
       "      <th>URL</th>\n",
       "    </tr>\n",
       "  </thead>\n",
       "  <tbody>\n",
       "    <tr>\n",
       "      <th>0</th>\n",
       "      <td>Anchorage</td>\n",
       "      <td>330 W DIMOND BLVD</td>\n",
       "      <td>ANCHORAGE</td>\n",
       "      <td>AK</td>\n",
       "      <td>99515-1903</td>\n",
       "      <td>(907) 349-2335</td>\n",
       "      <td>https://www.costco.com/warehouse-locations/anc...</td>\n",
       "    </tr>\n",
       "    <tr>\n",
       "      <th>1</th>\n",
       "      <td>Anchorage Business Center</td>\n",
       "      <td>1074 N MULDOON RD</td>\n",
       "      <td>ANCHORAGE</td>\n",
       "      <td>AK</td>\n",
       "      <td>99504-2073</td>\n",
       "      <td>(907) 416-9780</td>\n",
       "      <td>https://www.costco.com/warehouse-locations/anc...</td>\n",
       "    </tr>\n",
       "    <tr>\n",
       "      <th>2</th>\n",
       "      <td>Fairbanks</td>\n",
       "      <td>48 COLLEGE RD</td>\n",
       "      <td>FAIRBANKS</td>\n",
       "      <td>AK</td>\n",
       "      <td>99701-1706</td>\n",
       "      <td>(907) 205-3607</td>\n",
       "      <td>https://www.costco.com/warehouse-locations/fai...</td>\n",
       "    </tr>\n",
       "    <tr>\n",
       "      <th>3</th>\n",
       "      <td>Juneau</td>\n",
       "      <td>5225 COMMERCIAL BLVD</td>\n",
       "      <td>JUNEAU</td>\n",
       "      <td>AK</td>\n",
       "      <td>99801-7210</td>\n",
       "      <td>(907) 780-6740</td>\n",
       "      <td>https://www.costco.com/warehouse-locations/jun...</td>\n",
       "    </tr>\n",
       "    <tr>\n",
       "      <th>4</th>\n",
       "      <td>NE Anchorage</td>\n",
       "      <td>4125 DEBARR RD</td>\n",
       "      <td>ANCHORAGE</td>\n",
       "      <td>AK</td>\n",
       "      <td>99508-3115</td>\n",
       "      <td>(907) 269-9510</td>\n",
       "      <td>https://www.costco.com/warehouse-locations/ne-...</td>\n",
       "    </tr>\n",
       "  </tbody>\n",
       "</table>\n",
       "</div>"
      ],
      "text/plain": [
       "                  Store Name               Address       City State  \\\n",
       "0                  Anchorage     330 W DIMOND BLVD  ANCHORAGE    AK   \n",
       "1  Anchorage Business Center     1074 N MULDOON RD  ANCHORAGE    AK   \n",
       "2                  Fairbanks         48 COLLEGE RD  FAIRBANKS    AK   \n",
       "3                     Juneau  5225 COMMERCIAL BLVD     JUNEAU    AK   \n",
       "4               NE Anchorage        4125 DEBARR RD  ANCHORAGE    AK   \n",
       "\n",
       "      Zipcode           Phone  \\\n",
       "0  99515-1903  (907) 349-2335   \n",
       "1  99504-2073  (907) 416-9780   \n",
       "2  99701-1706  (907) 205-3607   \n",
       "3  99801-7210  (907) 780-6740   \n",
       "4  99508-3115  (907) 269-9510   \n",
       "\n",
       "                                                 URL  \n",
       "0  https://www.costco.com/warehouse-locations/anc...  \n",
       "1  https://www.costco.com/warehouse-locations/anc...  \n",
       "2  https://www.costco.com/warehouse-locations/fai...  \n",
       "3  https://www.costco.com/warehouse-locations/jun...  \n",
       "4  https://www.costco.com/warehouse-locations/ne-...  "
      ]
     },
     "execution_count": 31,
     "metadata": {},
     "output_type": "execute_result"
    }
   ],
   "source": [
    "df.head()"
   ]
  },
  {
   "cell_type": "markdown",
   "metadata": {},
   "source": [
    "## 2. Separate the Zip Code and keep the 5 digit part."
   ]
  },
  {
   "cell_type": "code",
   "execution_count": 32,
   "metadata": {},
   "outputs": [
    {
     "data": {
      "text/plain": [
       "'99515'"
      ]
     },
     "execution_count": 32,
     "metadata": {},
     "output_type": "execute_result"
    }
   ],
   "source": [
    "z='99515-1903'\n",
    "z.find('-')\n",
    "s=z.split('-')\n",
    "s[0]"
   ]
  },
  {
   "cell_type": "code",
   "execution_count": 33,
   "metadata": {},
   "outputs": [],
   "source": [
    "def check_and_fix_the_zeroes(z):\n",
    "    if len(z)==5:\n",
    "        return z\n",
    "    if len(z)==4:\n",
    "        return '0'+z\n",
    "    if len(z)==3:\n",
    "        return '00'+z\n",
    "    \n",
    "def take_5_digits(z):\n",
    "    if z.find('-')!= -1:\n",
    "        parts=z.split('-')\n",
    "        return check_and_fix_the_zeroes(parts[0])\n",
    "    else:\n",
    "        return check_and_fix_the_zeroes(z)\n",
    "          \n",
    "df['zip']=df['Zipcode'].astype(str).apply(take_5_digits)\n",
    "\n",
    "df.drop(columns=['Zipcode'], inplace=True)\n",
    "\n"
   ]
  },
  {
   "cell_type": "markdown",
   "metadata": {},
   "source": [
    "## 4. Save the changes"
   ]
  },
  {
   "cell_type": "markdown",
   "metadata": {},
   "source": [
    "## 4.1 Remove some columns to avoid future redundant information and conflicts"
   ]
  },
  {
   "cell_type": "code",
   "execution_count": 34,
   "metadata": {},
   "outputs": [],
   "source": [
    "df.drop(columns=['State'], inplace=True)\n",
    "df.drop(columns=['City'], inplace=True)"
   ]
  },
  {
   "cell_type": "code",
   "execution_count": 35,
   "metadata": {},
   "outputs": [],
   "source": [
    "# There is a Store in Frisco TX that has the zip code 75033 and this zipcode is relatively new and there is no previous data related to it.\n",
    "# Also, the pyzip package is not up to the date of creation of this zip code and therefore does not have any information about adjacent zip codes.\n",
    "# For viability reasons I am going to use the old zip code which serves better at getting the most informative results.\n",
    "# Google give this store the old zip code as well. Even more of a reason to have it corrected.\n",
    "df[df['zip']=='75033']='75034'"
   ]
  },
  {
   "cell_type": "code",
   "execution_count": 36,
   "metadata": {},
   "outputs": [
    {
     "name": "stdout",
     "output_type": "stream",
     "text": [
      "Saved!\n"
     ]
    }
   ],
   "source": [
    "#After all the changes, let's save in a csv file.\n",
    "\n",
    "import os\n",
    "outname = '1_Load_Costco.csv'\n",
    "outdir = '/Users/c32/Documents/NYCDSA/Projects/DATA/Ready_Data'\n",
    "if not os.path.exists(outdir):\n",
    "    os.mkdir(outdir)\n",
    "fullname = os.path.join(outdir, outname)    \n",
    "\n",
    "df.to_csv(fullname, header=True, index=False)\n",
    "print(\"Saved!\")"
   ]
  },
  {
   "cell_type": "code",
   "execution_count": 37,
   "metadata": {},
   "outputs": [
    {
     "data": {
      "text/html": [
       "<div>\n",
       "<style scoped>\n",
       "    .dataframe tbody tr th:only-of-type {\n",
       "        vertical-align: middle;\n",
       "    }\n",
       "\n",
       "    .dataframe tbody tr th {\n",
       "        vertical-align: top;\n",
       "    }\n",
       "\n",
       "    .dataframe thead th {\n",
       "        text-align: right;\n",
       "    }\n",
       "</style>\n",
       "<table border=\"1\" class=\"dataframe\">\n",
       "  <thead>\n",
       "    <tr style=\"text-align: right;\">\n",
       "      <th></th>\n",
       "      <th>Store Name</th>\n",
       "      <th>Address</th>\n",
       "      <th>Phone</th>\n",
       "      <th>URL</th>\n",
       "      <th>zip</th>\n",
       "    </tr>\n",
       "  </thead>\n",
       "  <tbody>\n",
       "    <tr>\n",
       "      <th>0</th>\n",
       "      <td>Anchorage</td>\n",
       "      <td>330 W DIMOND BLVD</td>\n",
       "      <td>(907) 349-2335</td>\n",
       "      <td>https://www.costco.com/warehouse-locations/anc...</td>\n",
       "      <td>99515</td>\n",
       "    </tr>\n",
       "    <tr>\n",
       "      <th>1</th>\n",
       "      <td>Anchorage Business Center</td>\n",
       "      <td>1074 N MULDOON RD</td>\n",
       "      <td>(907) 416-9780</td>\n",
       "      <td>https://www.costco.com/warehouse-locations/anc...</td>\n",
       "      <td>99504</td>\n",
       "    </tr>\n",
       "    <tr>\n",
       "      <th>2</th>\n",
       "      <td>Fairbanks</td>\n",
       "      <td>48 COLLEGE RD</td>\n",
       "      <td>(907) 205-3607</td>\n",
       "      <td>https://www.costco.com/warehouse-locations/fai...</td>\n",
       "      <td>99701</td>\n",
       "    </tr>\n",
       "    <tr>\n",
       "      <th>3</th>\n",
       "      <td>Juneau</td>\n",
       "      <td>5225 COMMERCIAL BLVD</td>\n",
       "      <td>(907) 780-6740</td>\n",
       "      <td>https://www.costco.com/warehouse-locations/jun...</td>\n",
       "      <td>99801</td>\n",
       "    </tr>\n",
       "    <tr>\n",
       "      <th>4</th>\n",
       "      <td>NE Anchorage</td>\n",
       "      <td>4125 DEBARR RD</td>\n",
       "      <td>(907) 269-9510</td>\n",
       "      <td>https://www.costco.com/warehouse-locations/ne-...</td>\n",
       "      <td>99508</td>\n",
       "    </tr>\n",
       "  </tbody>\n",
       "</table>\n",
       "</div>"
      ],
      "text/plain": [
       "                  Store Name               Address           Phone  \\\n",
       "0                  Anchorage     330 W DIMOND BLVD  (907) 349-2335   \n",
       "1  Anchorage Business Center     1074 N MULDOON RD  (907) 416-9780   \n",
       "2                  Fairbanks         48 COLLEGE RD  (907) 205-3607   \n",
       "3                     Juneau  5225 COMMERCIAL BLVD  (907) 780-6740   \n",
       "4               NE Anchorage        4125 DEBARR RD  (907) 269-9510   \n",
       "\n",
       "                                                 URL    zip  \n",
       "0  https://www.costco.com/warehouse-locations/anc...  99515  \n",
       "1  https://www.costco.com/warehouse-locations/anc...  99504  \n",
       "2  https://www.costco.com/warehouse-locations/fai...  99701  \n",
       "3  https://www.costco.com/warehouse-locations/jun...  99801  \n",
       "4  https://www.costco.com/warehouse-locations/ne-...  99508  "
      ]
     },
     "execution_count": 37,
     "metadata": {},
     "output_type": "execute_result"
    }
   ],
   "source": [
    "df.head()"
   ]
  }
 ],
 "metadata": {
  "kernelspec": {
   "display_name": "Python 3",
   "language": "python",
   "name": "python3"
  },
  "language_info": {
   "codemirror_mode": {
    "name": "ipython",
    "version": 3
   },
   "file_extension": ".py",
   "mimetype": "text/x-python",
   "name": "python",
   "nbconvert_exporter": "python",
   "pygments_lexer": "ipython3",
   "version": "3.12.3"
  }
 },
 "nbformat": 4,
 "nbformat_minor": 2
}
